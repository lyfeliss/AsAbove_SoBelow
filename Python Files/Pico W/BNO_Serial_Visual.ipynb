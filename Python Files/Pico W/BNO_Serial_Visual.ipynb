{
 "cells": [
  {
   "cell_type": "code",
   "execution_count": 2,
   "id": "c2a65c13",
   "metadata": {},
   "outputs": [
    {
     "data": {
      "text/html": [
       "<div id=\"glowscript\" class=\"glowscript\"></div>"
      ],
      "text/plain": [
       "<IPython.core.display.HTML object>"
      ]
     },
     "metadata": {},
     "output_type": "display_data"
    },
    {
     "data": {
      "application/javascript": [
       "if (typeof Jupyter !== \"undefined\") { window.__context = { glowscript_container: $(\"#glowscript\").removeAttr(\"id\")};}else{ element.textContent = ' ';}"
      ],
      "text/plain": [
       "<IPython.core.display.Javascript object>"
      ]
     },
     "metadata": {},
     "output_type": "display_data"
    },
    {
     "ename": "SerialException",
     "evalue": "could not open port 'COM8': PermissionError(13, 'Access is denied.', None, 5)",
     "output_type": "error",
     "traceback": [
      "\u001b[1;31m---------------------------------------------------------------------------\u001b[0m",
      "\u001b[1;31mSerialException\u001b[0m                           Traceback (most recent call last)",
      "Cell \u001b[1;32mIn[2], line 10\u001b[0m\n\u001b[0;32m      7\u001b[0m BAUD_RATE \u001b[38;5;241m=\u001b[39m \u001b[38;5;241m115200\u001b[39m\n\u001b[0;32m      9\u001b[0m \u001b[38;5;66;03m# Initialize serial connection to the Pico.\u001b[39;00m\n\u001b[1;32m---> 10\u001b[0m ser \u001b[38;5;241m=\u001b[39m serial\u001b[38;5;241m.\u001b[39mSerial(SERIAL_PORT, BAUD_RATE, timeout\u001b[38;5;241m=\u001b[39m\u001b[38;5;241m1\u001b[39m)\n\u001b[0;32m     12\u001b[0m \u001b[38;5;66;03m# Create a 3D box representing the sensor.\u001b[39;00m\n\u001b[0;32m     13\u001b[0m \u001b[38;5;66;03m# Dimensions: 25 mm (x-axis), 10 mm (y-axis), 3 mm (z-axis)\u001b[39;00m\n\u001b[0;32m     14\u001b[0m my_box \u001b[38;5;241m=\u001b[39m box(length\u001b[38;5;241m=\u001b[39m\u001b[38;5;241m0.025\u001b[39m, height\u001b[38;5;241m=\u001b[39m\u001b[38;5;241m0.010\u001b[39m, width\u001b[38;5;241m=\u001b[39m\u001b[38;5;241m0.003\u001b[39m, color\u001b[38;5;241m=\u001b[39mvector(\u001b[38;5;241m1\u001b[39m, \u001b[38;5;241m0\u001b[39m, \u001b[38;5;241m0\u001b[39m))\n",
      "File \u001b[1;32m~\\anaconda3\\Lib\\site-packages\\serial\\serialwin32.py:33\u001b[0m, in \u001b[0;36mSerial.__init__\u001b[1;34m(self, *args, **kwargs)\u001b[0m\n\u001b[0;32m     31\u001b[0m \u001b[38;5;28mself\u001b[39m\u001b[38;5;241m.\u001b[39m_overlapped_read \u001b[38;5;241m=\u001b[39m \u001b[38;5;28;01mNone\u001b[39;00m\n\u001b[0;32m     32\u001b[0m \u001b[38;5;28mself\u001b[39m\u001b[38;5;241m.\u001b[39m_overlapped_write \u001b[38;5;241m=\u001b[39m \u001b[38;5;28;01mNone\u001b[39;00m\n\u001b[1;32m---> 33\u001b[0m \u001b[38;5;28msuper\u001b[39m(Serial, \u001b[38;5;28mself\u001b[39m)\u001b[38;5;241m.\u001b[39m\u001b[38;5;21m__init__\u001b[39m(\u001b[38;5;241m*\u001b[39margs, \u001b[38;5;241m*\u001b[39m\u001b[38;5;241m*\u001b[39mkwargs)\n",
      "File \u001b[1;32m~\\anaconda3\\Lib\\site-packages\\serial\\serialutil.py:244\u001b[0m, in \u001b[0;36mSerialBase.__init__\u001b[1;34m(self, port, baudrate, bytesize, parity, stopbits, timeout, xonxoff, rtscts, write_timeout, dsrdtr, inter_byte_timeout, exclusive, **kwargs)\u001b[0m\n\u001b[0;32m    241\u001b[0m     \u001b[38;5;28;01mraise\u001b[39;00m \u001b[38;5;167;01mValueError\u001b[39;00m(\u001b[38;5;124m'\u001b[39m\u001b[38;5;124munexpected keyword arguments: \u001b[39m\u001b[38;5;132;01m{!r}\u001b[39;00m\u001b[38;5;124m'\u001b[39m\u001b[38;5;241m.\u001b[39mformat(kwargs))\n\u001b[0;32m    243\u001b[0m \u001b[38;5;28;01mif\u001b[39;00m port \u001b[38;5;129;01mis\u001b[39;00m \u001b[38;5;129;01mnot\u001b[39;00m \u001b[38;5;28;01mNone\u001b[39;00m:\n\u001b[1;32m--> 244\u001b[0m     \u001b[38;5;28mself\u001b[39m\u001b[38;5;241m.\u001b[39mopen()\n",
      "File \u001b[1;32m~\\anaconda3\\Lib\\site-packages\\serial\\serialwin32.py:64\u001b[0m, in \u001b[0;36mSerial.open\u001b[1;34m(self)\u001b[0m\n\u001b[0;32m     62\u001b[0m \u001b[38;5;28;01mif\u001b[39;00m \u001b[38;5;28mself\u001b[39m\u001b[38;5;241m.\u001b[39m_port_handle \u001b[38;5;241m==\u001b[39m win32\u001b[38;5;241m.\u001b[39mINVALID_HANDLE_VALUE:\n\u001b[0;32m     63\u001b[0m     \u001b[38;5;28mself\u001b[39m\u001b[38;5;241m.\u001b[39m_port_handle \u001b[38;5;241m=\u001b[39m \u001b[38;5;28;01mNone\u001b[39;00m    \u001b[38;5;66;03m# 'cause __del__ is called anyway\u001b[39;00m\n\u001b[1;32m---> 64\u001b[0m     \u001b[38;5;28;01mraise\u001b[39;00m SerialException(\u001b[38;5;124m\"\u001b[39m\u001b[38;5;124mcould not open port \u001b[39m\u001b[38;5;132;01m{!r}\u001b[39;00m\u001b[38;5;124m: \u001b[39m\u001b[38;5;132;01m{!r}\u001b[39;00m\u001b[38;5;124m\"\u001b[39m\u001b[38;5;241m.\u001b[39mformat(\u001b[38;5;28mself\u001b[39m\u001b[38;5;241m.\u001b[39mportstr, ctypes\u001b[38;5;241m.\u001b[39mWinError()))\n\u001b[0;32m     66\u001b[0m \u001b[38;5;28;01mtry\u001b[39;00m:\n\u001b[0;32m     67\u001b[0m     \u001b[38;5;28mself\u001b[39m\u001b[38;5;241m.\u001b[39m_overlapped_read \u001b[38;5;241m=\u001b[39m win32\u001b[38;5;241m.\u001b[39mOVERLAPPED()\n",
      "\u001b[1;31mSerialException\u001b[0m: could not open port 'COM8': PermissionError(13, 'Access is denied.', None, 5)"
     ]
    }
   ],
   "source": [
    "import serial\n",
    "import json\n",
    "from vpython import box, vector, rate, scene\n",
    "\n",
    "# Adjust the serial port and baud rate as needed.\n",
    "SERIAL_PORT = \"COM8\"  # Change to your actual port (e.g., \"COM3\" on Windows)\n",
    "BAUD_RATE = 115200\n",
    "\n",
    "# Initialize serial connection to the Pico.\n",
    "ser = serial.Serial(SERIAL_PORT, BAUD_RATE, timeout=1)\n",
    "\n",
    "# Create a 3D box representing the sensor.\n",
    "# Dimensions: 25 mm (x-axis), 10 mm (y-axis), 3 mm (z-axis)\n",
    "my_box = box(length=0.025, height=0.010, width=0.003, color=vector(1, 0, 0))\n",
    "\n",
    "def quaternion_to_axis_up(q):\n",
    "    \"\"\"\n",
    "    Convert a quaternion q = [w, x, y, z] into two VPython vectors:\n",
    "    - axis: represents the rotated x-axis (with x and y components inverted).\n",
    "    - up: represents the rotated z-axis (with x and y components inverted).\n",
    "    \n",
    "    The sensor’s coordinate system may be mounted so that its positive x and y axes\n",
    "    correspond to negative x and y in the VPython world. By flipping these components,\n",
    "    a positive tilt along the sensor's x and y becomes a positive rotation in the VPython scene.\n",
    "    \"\"\"\n",
    "    w, x, y, z = q\n",
    "    \n",
    "    # Standard conversion: first column of the rotation matrix (rotated x-axis)\n",
    "    r00 = 1 - 2*(y*y + z*z)\n",
    "    r10 = 2*(x*y + z*w)\n",
    "    r20 = 2*(x*z - y*w)\n",
    "    \n",
    "    # Standard conversion: third column of the rotation matrix (rotated z-axis)\n",
    "    r02 = 2*(x*z + y*w)\n",
    "    r12 = 2*(y*z - x*w)\n",
    "    r22 = 1 - 2*(x*x + y*y)\n",
    "    \n",
    "    # Invert both x and y components to fix the inverted rotation when lifting positive x and y.\n",
    "    axis = vector(-r00, -r10, r20)\n",
    "    up   = vector(-r02, -r12, r22)\n",
    "    \n",
    "    return axis, up\n",
    "\n",
    "while True:\n",
    "    rate(50)  # Limit update rate to about 50 frames per second.\n",
    "    line = ser.readline().decode().strip()\n",
    "    if line:\n",
    "        try:\n",
    "            data = json.loads(line)\n",
    "            # Use sensor_1's quaternion for the visualization.\n",
    "            q = data[\"sensor_1\"][\"quat\"]\n",
    "            axis, up = quaternion_to_axis_up(q)\n",
    "            my_box.axis = axis\n",
    "            my_box.up = up\n",
    "        except Exception as e:\n",
    "            print(\"Error parsing line:\", line, e)\n"
   ]
  },
  {
   "cell_type": "code",
   "execution_count": null,
   "id": "ddd76ed4",
   "metadata": {},
   "outputs": [],
   "source": []
  }
 ],
 "metadata": {
  "kernelspec": {
   "display_name": "Python 3 (ipykernel)",
   "language": "python",
   "name": "python3"
  },
  "language_info": {
   "codemirror_mode": {
    "name": "ipython",
    "version": 3
   },
   "file_extension": ".py",
   "mimetype": "text/x-python",
   "name": "python",
   "nbconvert_exporter": "python",
   "pygments_lexer": "ipython3",
   "version": "3.11.7"
  }
 },
 "nbformat": 4,
 "nbformat_minor": 5
}
